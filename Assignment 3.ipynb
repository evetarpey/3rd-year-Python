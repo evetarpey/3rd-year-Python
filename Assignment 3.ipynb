{
 "cells": [
  {
   "cell_type": "markdown",
   "id": "7b21c0c0",
   "metadata": {},
   "source": [
    "## Assignment 3\n",
    "Name: Eve Tarpey Date: 29/10/23\n",
    "\n",
    "### Introduction: Information we are given in assignment\n",
    "#### The Rectangle rule\n",
    "The rectangle rule is the simplest way to integrate a well behaved function. \n",
    "In the rectangle rule, the area under the curve is approximated by the sum of the area of a number of rectangles. \n",
    "\n",
    "\n",
    "\n",
    "The width of each rectangle (h), is determined by the division of the interval into n segments:\n",
    "\n",
    "$$ \\frac{b-a}{n} = h $$\n",
    "\n",
    "\n",
    "The approximation of the integral using the rectangle rule is expressed as:\n",
    "$$ I \\approx \\sum_{i=0}^{n-1} f(x_i)h $$\n",
    "\n",
    "Where:\n",
    "\n",
    "- $I$ represents the integral of the function over [a,b].\n",
    "- $f(x_i)$ is the value of the function f(x) at the left edge of the i-th rectangle.\n",
    "- h is the width of each rectangle, as determined by the division of the interval into n segments.\n",
    "\n",
    "#### The Monte Carlo method for solving a definite well-behaved integral\n",
    "Monte Carlo method \n",
    "- Specify the integration limits in x to give a range xmin to xmax.\n",
    "- Evaluate the maximum of the function between the limits in x (this can be done by plotting, or analytically). This gives a ymax, and the minimum value of y is zero. There is now a box area defined by these x and y values. The integral is the area under the curve so the ratio of the box area to the area under the curve can be used to estimate the integral.\n",
    "\n",
    "For a large number of trials, do the following three steps:\n",
    "- Create random number pair (x, y) by generating a random x in the range xmin to xmax and a random y in the range 0 and ymax.\n",
    "- Test if the random number pair lies above or below the function f (x) by evaluating by substitution whether f (x) is less than or equal to y.\n",
    "- If the random number pair is under or on the curve, add one to the summation. If it is above the curve, do not add to the summation.\n",
    "- The integral is then found from: summation/trials ' integral/box area.\n",
    "\n",
    "--------------------------------------------------------------------------------------------"
   ]
  },
  {
   "cell_type": "markdown",
   "id": "a6de364e",
   "metadata": {},
   "source": [
    "### Task 1:\n",
    "Directly program the rectangle rule to give a numerical estimate for $$ \\int_a^b f(x)  = \\int_a^b cos^2(\\pi x) $$\n",
    "\n",
    "Where\n",
    "- $ f(x) = cos^2(\\pi x) $\n",
    "- Let a = -1/3 and b = 1/3\n",
    "- Let n = 100 iterations"
   ]
  },
  {
   "cell_type": "code",
   "execution_count": 93,
   "id": "fd4048e8",
   "metadata": {},
   "outputs": [
    {
     "name": "stdout",
     "output_type": "stream",
     "text": [
      "Lower limit of integration: -.3333333\n",
      "Upper limit of integration: .3333333\n",
      "--------------------------------------------------------\n",
      "The numerical estimate for the integral of f(x) is:  0.471145\n"
     ]
    }
   ],
   "source": [
    "import numpy as np                                              # import numpy to perform mathematical operations\n",
    "\n",
    "# define the function f(x) to calculate f(x) = cos^2(pi*x) using rectangle rule method\n",
    "def f(x):\n",
    "    return np.cos(np.pi * x) **2\n",
    "\n",
    "# define the parameters\n",
    "n = 100                                                         # number of iterations\n",
    "a = float(input(\"Lower limit of integration: \"))                # prompt for the user to input the value for a\n",
    "b = float(input(\"Upper limit of integration: \"))                # prompt for the user to input the value for b\n",
    "                                                        \n",
    "# define the rectangle rule to allow for numerical integration\n",
    "def rectangle(a, b, n):\n",
    "    h = (b - a) / n                                             # to find the width of each rectangle\n",
    "    integral = 0                                                # initialise the integral to 0\n",
    "    \n",
    "# initiate a loop to run n times. let r take values from 0 to n-1\n",
    "    for r in range(n):                                          \n",
    "        xr = a + r * h                                          # calculate the x coordinate for left of the rectangle\n",
    "        integral += f(xr)                                       # compute the value of f(x) at the x coordinate xr\n",
    "    integral *= h                                               # to get the total area under the curve\n",
    "    \n",
    "    return integral                                             # to return the total area\n",
    "\n",
    "result = rectangle(a, b, n)\n",
    "\n",
    "print(\"--------------------------------------------------------\")\n",
    "\n",
    "# print the numerical estimate for the integral to 6 decimal places\n",
    "print(f\"The numerical estimate for the integral of f(x) is: {result: .6g}\")"
   ]
  },
  {
   "cell_type": "markdown",
   "id": "dd6600f6",
   "metadata": {},
   "source": [
    "### Summary of code in Task 1:\n",
    "\n",
    "- Define the function $f(x) = cos^{2}(\\pi x) $ to be used in rectangle rule method.\n",
    "\n",
    "\n",
    "- Set the number of iterations (n) = 100.\n",
    "\n",
    "\n",
    "- Prompt the user to enter the lower and upper limits of integration (a and b). \n",
    "\n",
    "We were not given specific limits, so I used a=-1/3 and b=1/3. If they were incorrect parameters, the code then allows you to change! :)\n",
    "\n",
    "- Define the function rectangle(a, b, n) to implement the rectangle rule for numerical integration.\n",
    "\n",
    "\n",
    "- Use a loop to iterate through n rectangles.\n",
    "\n",
    "\n",
    "- Call the rectangle function with the specified parameters and store the result.\n",
    "\n",
    "\n",
    "- Print the numerical estimate for the integral of f(x) to 6 decimal places for accuracy."
   ]
  },
  {
   "cell_type": "markdown",
   "id": "567cf615",
   "metadata": {},
   "source": [
    "## Task 2: \n",
    "\n",
    "- Use scipy.integrate to import quad to calculate an accurate value for the integral.\n",
    "- Include an estimated error value."
   ]
  },
  {
   "cell_type": "code",
   "execution_count": 97,
   "id": "c6522e66",
   "metadata": {},
   "outputs": [
    {
     "name": "stdout",
     "output_type": "stream",
     "text": [
      "The result of numerical integration +/- the error value is: 0.471166 +/- 5.23e-15\n"
     ]
    }
   ],
   "source": [
    "from scipy.integrate import quad                                # to perform numerical integration\n",
    "\n",
    "# using the values from task 1, return the result and an estimated error for extra accuracy !\n",
    "\n",
    "result, error = quad(f, a, b)    \n",
    "\n",
    "# print the result of the numerical integration to 6 decimal places and the estimated error associated to 3 decimal places\n",
    "\n",
    "print(f\"The result of numerical integration +/- the error value is: {result:.6g} +/- {error:.3g}\")"
   ]
  },
  {
   "cell_type": "markdown",
   "id": "9449a769",
   "metadata": {},
   "source": [
    "### Summary of code in Task 2:\n",
    "\n",
    "- Use the quad function from the scipy.integrate module to calculate an accurate value of the integral, rather than an estimated value.\n",
    "\n",
    "\n",
    "- Include an error for added accuracy.\n",
    "\n",
    "\n",
    "- Print the results."
   ]
  },
  {
   "cell_type": "markdown",
   "id": "57110fa2",
   "metadata": {},
   "source": [
    "## Task 3:\n",
    "A numerical method is Nth order if the accuracy, $ \\eta \\propto n^{-N} $ .\n",
    "$$ \\eta = \\frac{|measured − expected|}{expected} $$\n",
    "\n",
    "\n",
    "\n",
    "- Using the accurate expected value for the integral from Task 2, investigate the performance of the rectangle rule by varying the number of iterations by factors of 10 (i.e. 10, 100, 1000, 10000,....) steps. \n",
    "\n",
    "- Plot the relative accuracy of the algorithm versus the number of steps\n",
    "- Identify the order of the algorithm.\n"
   ]
  },
  {
   "cell_type": "code",
   "execution_count": 11,
   "id": "cbc4003c",
   "metadata": {},
   "outputs": [
    {
     "data": {
      "image/png": "[encoded data removed]",
      "text/plain": [
       "<Figure size 720x432 with 1 Axes>"
      ]
     },
     "metadata": {
      "needs_background": "light"
     },
     "output_type": "display_data"
    }
   ],
   "source": [
    "import matplotlib.pyplot as plt                                # import matplotlib.pyplot as plt to plot the graph \n",
    "\n",
    "# calculate the expected value for the integral, f is being integrated, and a and b are our limits. \n",
    "expected, _ = quad(f, a, b)                                    \n",
    "\n",
    "# vary the number of iterations by factors of 10 and store them in a list\n",
    "iterations = [10, 100, 1000, 10000, 100000]      \n",
    "\n",
    "# initialise a list to store relative accuracies in order to plot them on our graph\n",
    "relative_accuracies = []\n",
    "\n",
    "# calculate the numerical estimate for each n value using the rectangle rule \n",
    "for n in iterations:\n",
    "    measured = rectangle(a, b, n)     \n",
    "    \n",
    "    # compute relative accuracy\n",
    "    relative_accuracy = abs(measured - expected) / expected\n",
    "    \n",
    "    relative_accuracies.append(relative_accuracy)              # append the result to the relative_accuracies list\n",
    "\n",
    "plt.figure(figsize=(10, 6))                                    # to enlarge the graph\n",
    "\n",
    "# plot the relative accuracy vs the number of steps, use a log scale in order to identify the order of the algorithm\n",
    "\n",
    "plt.loglog(iterations, relative_accuracies, \"m--\")             # to plot the log scale graph\n",
    "plt.title(\" Relative accuracy vs number of steps\")             # to title the graph\n",
    "plt.xlabel(\"number of steps (n)\")                              # to label the x axis\n",
    "plt.ylabel(\"relative accuracy ($\\eta$)\")                       # to label the y axis\n",
    "plt.grid()                                                     # to display a grid\n",
    "plt.show()                                                     # to show the graph"
   ]
  },
  {
   "cell_type": "markdown",
   "id": "ee6ba319",
   "metadata": {},
   "source": [
    "To identify the order of the algorithm, we need to analyze how the relative accuracy changes as the number of steps increases.\n",
    "$ \\eta \\propto n^{-N} $"
   ]
  },
  {
   "cell_type": "code",
   "execution_count": 96,
   "id": "37e7c68b",
   "metadata": {},
   "outputs": [
    {
     "name": "stdout",
     "output_type": "stream",
     "text": [
      "The slope of the graph: -2\n"
     ]
    }
   ],
   "source": [
    "# in order to analyse the relationship between log(iterations) and log(relative accuracies)\n",
    "from scipy.stats import linregress as linear\n",
    "\n",
    "# converts the lists to logarithmic scale\n",
    "log_iterations = np.log10(iterations)                           \n",
    "log_accuracies = np.log10(relative_accuracies)\n",
    "\n",
    "# calculate the slope of the line of best fit\n",
    "slope, intercept, r_value, p_value, std_err = linear(log_iterations, log_accuracies)\n",
    "\n",
    "# print the value of the slope in order to identify the order\n",
    "print(f\"The slope of the graph: {slope:.3g}\")                    "
   ]
  },
  {
   "cell_type": "markdown",
   "id": "ef3b02ee",
   "metadata": {},
   "source": [
    "This shows us that the numerical method is second order: $ \\eta \\propto n^{2} $\n",
    "\n",
    "I originally expected the algorithm to be of order 1, but I thought that using the slope of the graph would give the correct answer - thus I got the answer above.\n",
    "\n",
    "### Summary of code in Task 3:\n",
    "- Calculate the expected value (expected) of the integral using the quad function.\n",
    "\n",
    "\n",
    "- Create a list (iterations) containing the number of steps for the rectangle rule.\n",
    "\n",
    "\n",
    "- Initialize an empty list (relative_accuracies) to store the relative accuracies.\n",
    "\n",
    "\n",
    "- Iterate through the list of iterations and calculate the numerical estimate for each n using the rectangle function defined in task 1.\n",
    "\n",
    "\n",
    "- Compute the relative accuracy and append to the relative_accuracies list.\n",
    "\n",
    "\n",
    "- Create a plot (relative accuracy of the algorithm versus the number of steps) with a logarithmic scale on both axes.\n",
    "\n",
    "\n",
    "Then, in order to identify the order of the algorithm:\n",
    "- Import the linregress function from the scipy.stats module.\n",
    "\n",
    "\n",
    "- Convert lists to logarithmic scale and store them as log_iterations and log_accuracies.\n",
    "\n",
    "\n",
    "- Calculate the slope, intercept, correlation coefficient (r_value), p-value (p_value), and standard error (std_err) of the regression line.\n",
    "\n",
    "\n",
    "- Print the slope of the regression line. \n",
    "\n",
    "\n",
    "Then identify the order of the algorithm!\n"
   ]
  },
  {
   "cell_type": "markdown",
   "id": "888a1665",
   "metadata": {},
   "source": [
    "## Task 4: Monte Carlo method\n",
    "- Generate a code to calculate:  $$ \\int_a^b f(x)  = \\int_a^b cos^2(\\pi x) $$ using the Monte Carlo method.\n",
    "\n",
    "\n",
    "- Make a plot of the performance of the Monte Carol method versus number of trials.\n"
   ]
  },
  {
   "cell_type": "code",
   "execution_count": 112,
   "id": "a2a198f8",
   "metadata": {},
   "outputs": [
    {
     "data": {
      "image/png": "[encoded data removed]",
      "text/plain": [
       "<Figure size 720x432 with 1 Axes>"
      ]
     },
     "metadata": {
      "needs_background": "light"
     },
     "output_type": "display_data"
    },
    {
     "name": "stdout",
     "output_type": "stream",
     "text": [
      "Monte Carlo integral estimate: 0.47246\n"
     ]
    }
   ],
   "source": [
    "# define the function f(x) to calculate f(x) = cos^2(pi*x) using Monte Carlo method\n",
    "def f(x):\n",
    "    return np.cos(np.pi * x) ** 2\n",
    "\n",
    "# n_trials = number of random points generated for the Monte Carlo method, a and b are integration limits\n",
    "def monte_carlo(a, b, n_trials):       \n",
    "    \n",
    "    xmin, xmax = a, b                                 # determine the minimum (xmin) and maximum (xmax) values \n",
    "    \n",
    "    ymax = np.max(f(np.linspace(xmin, xmax, 1001)))   # calculate the maximum value of the function within the given range\n",
    "    \n",
    "    box_area = (xmax - xmin) * ymax                   # calculate the box area\n",
    "    \n",
    "    summation = 0                                     # to initialise the summation variable\n",
    "\n",
    "    for _ in range(n_trials):                         # loop iterates through n_trails\n",
    "        \n",
    "        # generate a random point x within the limits [xmin and xmax]\n",
    "        x = np.random.uniform(xmin, xmax)    \n",
    "        \n",
    "        # generate a random point y within the limits [0, ymax], y is the random height of a point within the box\n",
    "        y = np.random.uniform(0, ymax)                 \n",
    "        \n",
    "        if y <= f(x):                                 # to check if randomly generated point lies on or under the curve                           \n",
    "            summation += 1                            # add 1 to summation variable if the point lies on or under curve\n",
    "\n",
    "    # calculate the estimated value of the integral using the Monte Carlo method        \n",
    "    integral_estimate = (summation / n_trials) * box_area\n",
    "    return integral_estimate\n",
    "\n",
    "# define integration limits and number of trials\n",
    "a = -1/3                                               # using a= -1/3 as in intro example\n",
    "b = 1/3                                                # using b = 1/3 as in intro example\n",
    "n_trials = [10, 100, 1000, 10000, 100000]              # using iterations as in task 3\n",
    "\n",
    "results = []                                           # initialize a list to store the integral estimates\n",
    "\n",
    "# perform the Monte Carlo method for each number of trials\n",
    "for n in n_trials:\n",
    "    mc_result = monte_carlo(a, b, n)\n",
    "    results.append(mc_result)\n",
    "\n",
    "plt.figure(figsize=(10, 6))                             # to enlarge the graph\n",
    "\n",
    "# plot the results using a logarithmic scale\n",
    "plt.loglog(n_trials, results, marker=\".\", color=\"green\")\n",
    "\n",
    "# to title the graph\n",
    "plt.title(\"Monte Carlo method performance vs. number of trials\")\n",
    "\n",
    "# to label the x and y axes\n",
    "plt.xlabel(\"number of trials (n_trials)\")\n",
    "plt.ylabel(\"integral estimates (integral_estimate)\")\n",
    "\n",
    "# to display a grid\n",
    "plt.grid()\n",
    "\n",
    "# to show the graph\n",
    "plt.show()\n",
    "\n",
    "# call monte_carlo_method function with specified parameters\n",
    "mc_result = monte_carlo(a, b, n_trials[-1])\n",
    "\n",
    "# print the Monte Carlo integral estimate to 6 significant figures\n",
    "print(f\"Monte Carlo integral estimate: {mc_result:.6g}\")\n"
   ]
  },
  {
   "cell_type": "markdown",
   "id": "ec8cddac",
   "metadata": {},
   "source": [
    "### Summary of code in Task 4:\n",
    "\n",
    "- Defines the function $f(x) = cos^{2}(\\pi x) $\n",
    "\n",
    "\n",
    "- The monte_carlo_method function takes integration limits [a,b] , and the number of trials (n_trials) as input.\n",
    "\n",
    "\n",
    "- Generates random points within the specified limits and checks if they fall under or on the curve defined by f(x).\n",
    "\n",
    "\n",
    "- Accumulates points that meet the condition.\n",
    "\n",
    "\n",
    "- Calculates the estimated value of the integral using the Monte Carlo method:\n",
    "\n",
    "\n",
    "$$ \\frac{summation}{trials} box area $$\n",
    "\n",
    "- Initializes a list to store the results and performs the Monte Carlo method for different numbers of trials.\n",
    "\n",
    "\n",
    "- Plots the results using a logarithmic scale.\n",
    "\n",
    "\n",
    "- Calls monte_carlo_method with the maximum number of trials.\n",
    "\n",
    "\n",
    "- Prints the Monte Carlo Integral Estimate."
   ]
  },
  {
   "cell_type": "markdown",
   "id": "ef9a2fab",
   "metadata": {},
   "source": [
    "## Task 5:\n",
    "\n",
    "- Generalise the method given above into three dimensions to solve the following 3D infinite potential well problem."
   ]
  },
  {
   "cell_type": "code",
   "execution_count": 111,
   "id": "ff709a64",
   "metadata": {},
   "outputs": [
    {
     "name": "stdout",
     "output_type": "stream",
     "text": [
      "Value for L:4\n",
      "Monte Carlo integral estimate in 3D for side length 4: 64\n"
     ]
    }
   ],
   "source": [
    "# define the integral for a 3D infinite potential well with side length L\n",
    "def integral(x, y, z, L):\n",
    "    \n",
    "    if 0 <= x <= L and 0 <= y <= L and 0 <= z <= L:         # the integral is 1 inside the well and 0 outside\n",
    "        return 1                                            # if the point is inside the well, return 1\n",
    "    else:\n",
    "        return 0                                            # if it is outside the well, return 0\n",
    "\n",
    "# generalise the Monte Carlo integration in three dimensions\n",
    "def monte_carlo_3d(L, n_trials2):\n",
    "    count_in_well = 0                                       # initialises the count for points inside well, summation variable\n",
    "    \n",
    "    for _ in range(n_trials2):                              # loop that runs \"n_trials2\" times\n",
    "        \n",
    "        # generate random points within the cube from (0,0,0) to (L,L,L)\n",
    "        x = np.random.uniform(0, L)\n",
    "        y = np.random.uniform(0, L)\n",
    "        z = np.random.uniform(0, L)\n",
    "        \n",
    "        # count how many points fall inside the potential well\n",
    "        count_in_well += integral(x, y, z, L)               # adds either 1 or 0 to count if inside well  \n",
    "            \n",
    "   \n",
    "    volume = L ** 3                                         # the volume of the cube is L^3, unit= m^3\n",
    "    \n",
    "    # calculate the integral estimate. use the formula given in task 4: (count_in_well / n_trials2)*volume\n",
    "    integral_estimate2 = (count_in_well / n_trials2) * volume\n",
    "    return integral_estimate2\n",
    "\n",
    "# side length of the potential well\n",
    "L = float(input(\"Value for L:\"))                             # prompt the user to input a value for L\n",
    "\n",
    "# number of trials\n",
    "n_trials2 = 100000                                           # use similar value as in tasks above\n",
    "\n",
    "# perform Monte Carlo integration\n",
    "integral_estimate2 = monte_carlo_3d(L, n_trials2)\n",
    "\n",
    "# print the value for the Monte Carlo integral estimate in 3D\n",
    "print(f\"Monte Carlo integral estimate in 3D for side length {L:.1g}: {integral_estimate2:.3g}\")\n"
   ]
  },
  {
   "cell_type": "markdown",
   "id": "9cc1f0a3",
   "metadata": {},
   "source": [
    "### Summary of code in Task 5:\n",
    "- Define the function (integral) to determine if a point is inside the well.\n",
    "\n",
    "\n",
    "- Check if the points are within the boundaries of the cube.\n",
    "\n",
    "\n",
    "- Define the Monte Carlo integration function.\n",
    "\n",
    "\n",
    "- Loops \"n_trials2\" times in order to generate random points.\n",
    "\n",
    "\n",
    "- Compute volume of cube.\n",
    "\n",
    "\n",
    "- Calculate the integral estimate (integral_estimate2)\n",
    "\n",
    "\n",
    "- Input the value for L. \n",
    "\n",
    "\n",
    "- No. of trials = 100,000.\n",
    "\n",
    "\n",
    "- Print the 3d integral estimate.\n",
    "\n"
   ]
  }
 ],
 "metadata": {
  "kernelspec": {
   "display_name": "Python 3",
   "language": "python",
   "name": "python3"
  },
  "language_info": {
   "codemirror_mode": {
    "name": "ipython",
    "version": 3
   },
   "file_extension": ".py",
   "mimetype": "text/x-python",
   "name": "python",
   "nbconvert_exporter": "python",
   "pygments_lexer": "ipython3",
   "version": "3.8.8"
  }
 },
 "nbformat": 4,
 "nbformat_minor": 5
}
